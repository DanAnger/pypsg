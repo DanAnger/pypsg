{
 "cells": [
  {
   "cell_type": "code",
   "execution_count": 1,
   "metadata": {},
   "outputs": [],
   "source": [
    "import pypsg"
   ]
  },
  {
   "cell_type": "markdown",
   "metadata": {},
   "source": [
    "## Initializing"
   ]
  },
  {
   "cell_type": "markdown",
   "metadata": {},
   "source": [
    "Create a PSG instance. This uses `https://psg.gsfc.nasa.gov/api.php` as the default URL."
   ]
  },
  {
   "cell_type": "code",
   "execution_count": 2,
   "metadata": {},
   "outputs": [
    {
     "name": "stdout",
     "output_type": "stream",
     "text": [
      "Testing connection to PSG at https://psg.gsfc.nasa.gov/api.php ...\n",
      "Connected to PSG with success.\n"
     ]
    }
   ],
   "source": [
    "psg = pypsg.PSG()"
   ]
  },
  {
   "cell_type": "markdown",
   "metadata": {},
   "source": [
    "You can provide optional `server_url` and `timeout_seconds` arguments. The timeout applies to each request to PSG."
   ]
  },
  {
   "cell_type": "code",
   "execution_count": 3,
   "metadata": {},
   "outputs": [
    {
     "name": "stdout",
     "output_type": "stream",
     "text": [
      "Testing connection to PSG at https://psg.gsfc.nasa.gov/api.php ...\n",
      "Connected to PSG with success.\n"
     ]
    }
   ],
   "source": [
    "psg = pypsg.PSG(server_url='https://psg.gsfc.nasa.gov/api.php', timeout_seconds=5)"
   ]
  },
  {
   "cell_type": "markdown",
   "metadata": {},
   "source": [
    "## Running PSG"
   ]
  },
  {
   "cell_type": "markdown",
   "metadata": {},
   "source": [
    "We can get a default configuration, modify some fields in it, and send it to PSG."
   ]
  },
  {
   "cell_type": "code",
   "execution_count": 4,
   "metadata": {},
   "outputs": [
    {
     "data": {
      "text/plain": [
       "OrderedDict([('OBJECT', 'Mars'),\n",
       "             ('OBJECT-NAME', 'Mars'),\n",
       "             ('OBJECT-DATE', '2016/01/24 01:00'),\n",
       "             ('OBJECT-DIAMETER', 6779),\n",
       "             ('OBJECT-GRAVITY', 3.711),\n",
       "             ('OBJECT-GRAVITY-UNIT', 'g'),\n",
       "             ('OBJECT-STAR-DISTANCE', 1.6459),\n",
       "             ('OBJECT-STAR-VELOCITY', -1.0679),\n",
       "             ('OBJECT-SOLAR-LONGITUDE', 106.4),\n",
       "             ('OBJECT-SOLAR-LATITUDE', 25.08),\n",
       "             ('OBJECT-SEASON', 99.3),\n",
       "             ('OBJECT-STAR-TYPE', 'G'),\n",
       "             ('OBJECT-STAR-TEMPERATURE', 5777),\n",
       "             ('OBJECT-STAR-RADIUS', 1.0),\n",
       "             ('GEOMETRY', 'Observatory'),\n",
       "             ('GEOMETRY-OFFSET-NS', 0.3),\n",
       "             ('GEOMETRY-OFFSET-EW', 0.0),\n",
       "             ('GEOMETRY-OFFSET-UNIT', 'diameter'),\n",
       "             ('OBJECT-OBS-LONGITUDE', 144.9),\n",
       "             ('OBJECT-OBS-LATITUDE', 16.35),\n",
       "             ('OBJECT-OBS-VELOCITY', -17.626),\n",
       "             ('GEOMETRY-OBS-ALTITUDE', 1.4532),\n",
       "             ('GEOMETRY-ALTITUDE-UNIT', 'AU'),\n",
       "             ('GEOMETRY-USER-PARAM', 0.0),\n",
       "             ('GEOMETRY-STELLAR-TYPE', 'G'),\n",
       "             ('GEOMETRY-STELLAR-TEMPERATURE', 5777),\n",
       "             ('GEOMETRY-STELLAR-MAGNITUDE', 0),\n",
       "             ('GEOMETRY-SOLAR-ANGLE', 40.369),\n",
       "             ('GEOMETRY-OBS-ANGLE', 37.76),\n",
       "             ('GEOMETRY-PLANET-FRACTION', 0.006043293),\n",
       "             ('GEOMETRY-STAR-DISTANCE', -1.0),\n",
       "             ('GEOMETRY-STAR-FRACTION', 0.0),\n",
       "             ('GEOMETRY-PHASE', 39.327),\n",
       "             ('GEOMETRY-REF', 'User'),\n",
       "             ('GENERATOR-INSTRUMENT',\n",
       "              'IRTF_iSHELL: iSHELL is the 1.1-5.3 um cross-dispersed high-resolution (R 70,000) echelle spectrograph at the NASA Infrared Telescope Facility on Maunakea (4200 m), Hawaii. The instrument samples this broad spectral range (J, H, K, L, Lp and M bands) by employing an array of cross-dispersers and filters. Several slits are available (0.375, 0.75, 1.5 and 4.0 arcsec). Typical throughputs are above 0.15, yet drop substantially (below 0.05) beyond 1.25 um.'),\n",
       "             ('GENERATOR-RANGE1', 2700),\n",
       "             ('GENERATOR-RANGE2', 2740),\n",
       "             ('GENERATOR-RANGEUNIT', 'cm'),\n",
       "             ('GENERATOR-RESOLUTION', 70000),\n",
       "             ('GENERATOR-RESOLUTIONUNIT', 'RP'),\n",
       "             ('GENERATOR-TELESCOPE', 'SINGLE'),\n",
       "             ('GENERATOR-DIAMTELE', 3),\n",
       "             ('GENERATOR-BEAM', 0.5),\n",
       "             ('GENERATOR-BEAM-UNIT', 'arcsec'),\n",
       "             ('GENERATOR-TELESCOPE1', 1),\n",
       "             ('GENERATOR-TELESCOPE2', 0.0),\n",
       "             ('GENERATOR-TELESCOPE3', 1.0),\n",
       "             ('GENERATOR-NOISE', 'CCD'),\n",
       "             ('GENERATOR-NOISE1', 12),\n",
       "             ('GENERATOR-NOISE2', 0.05),\n",
       "             ('GENERATOR-NOISEOTEMP', 273),\n",
       "             ('GENERATOR-NOISEOEFF', 0.18),\n",
       "             ('GENERATOR-NOISEOEMIS', 0.05),\n",
       "             ('GENERATOR-NOISETIME', 15),\n",
       "             ('GENERATOR-NOISEFRAMES', 16),\n",
       "             ('GENERATOR-NOISEPIXELS', 8),\n",
       "             ('GENERATOR-TRANS-APPLY', 'N'),\n",
       "             ('GENERATOR-TRANS-SHOW', 'Y'),\n",
       "             ('GENERATOR-TRANS', '02-01'),\n",
       "             ('GENERATOR-LOGRAD', 'N'),\n",
       "             ('GENERATOR-GAS-MODEL', 'Y'),\n",
       "             ('GENERATOR-CONT-MODEL', 'Y'),\n",
       "             ('GENERATOR-CONT-STELLAR', 'Y'),\n",
       "             ('GENERATOR-RADUNITS', 'Wsrm2um'),\n",
       "             ('ATMOSPHERE-STRUCTURE', 'Equilibrium'),\n",
       "             ('ATMOSPHERE-WEIGHT', 43.34),\n",
       "             ('ATMOSPHERE-PUNIT', 'mbar'),\n",
       "             ('ATMOSPHERE-NGAS', 2),\n",
       "             ('ATMOSPHERE-GAS', 'CO2,H2O'),\n",
       "             ('ATMOSPHERE-TYPE', 'HIT[2],HIT[1,4] 162'),\n",
       "             ('ATMOSPHERE-ABUN', '1,7'),\n",
       "             ('ATMOSPHERE-UNIT', 'scl,scl'),\n",
       "             ('ATMOSPHERE-LAYERS-MOLECULES',\n",
       "              'CO2,N2,O2,CO,H2O,O3,Dust,WaterIce'),\n",
       "             ('ATMOSPHERE-PRESSURE', 4.971),\n",
       "             ('ATMOSPHERE-LAYERS', 30),\n",
       "             ('ATMOSPHERE-LAYER-1',\n",
       "              '4.968e-03,2.375e+02,9.624e-01,1.748e-02,1.331e-03,7.088e-04,2.611e-04,5.980e-09,4.715e-06,3.953e-32'),\n",
       "             ('ATMOSPHERE-LAYER-2',\n",
       "              '4.959e-03,2.359e+02,9.624e-01,1.748e-02,1.331e-03,7.088e-04,2.611e-04,5.999e-09,4.709e-06,1.842e-26'),\n",
       "             ('ATMOSPHERE-LAYER-3',\n",
       "              '4.934e-03,2.353e+02,9.624e-01,1.748e-02,1.331e-03,7.088e-04,2.612e-04,6.005e-09,4.702e-06,2.265e-10'),\n",
       "             ('ATMOSPHERE-LAYER-4',\n",
       "              '4.879e-03,2.344e+02,9.624e-01,1.748e-02,1.331e-03,7.088e-04,2.613e-04,6.000e-09,4.696e-06,3.926e-27'),\n",
       "             ('ATMOSPHERE-LAYER-5',\n",
       "              '4.777e-03,2.329e+02,9.624e-01,1.748e-02,1.331e-03,7.087e-04,2.617e-04,5.983e-09,4.691e-06,1.299e-27'),\n",
       "             ('ATMOSPHERE-LAYER-6',\n",
       "              '4.611e-03,2.305e+02,9.624e-01,1.747e-02,1.331e-03,7.086e-04,2.623e-04,5.944e-09,4.687e-06,1.961e-11'),\n",
       "             ('ATMOSPHERE-LAYER-7',\n",
       "              '4.363e-03,2.270e+02,9.624e-01,1.747e-02,1.331e-03,7.085e-04,2.633e-04,5.867e-09,4.685e-06,5.269e-11'),\n",
       "             ('ATMOSPHERE-LAYER-8',\n",
       "              '4.024e-03,2.223e+02,9.624e-01,1.747e-02,1.331e-03,7.083e-04,2.646e-04,5.759e-09,4.685e-06,1.222e-11'),\n",
       "             ('ATMOSPHERE-LAYER-9',\n",
       "              '3.598e-03,2.161e+02,9.624e-01,1.746e-02,1.330e-03,7.080e-04,2.667e-04,5.596e-09,4.685e-06,3.629e-10'),\n",
       "             ('ATMOSPHERE-LAYER-10',\n",
       "              '3.105e-03,2.093e+02,9.624e-01,1.745e-02,1.329e-03,7.076e-04,2.698e-04,5.345e-09,4.679e-06,2.046e-09'),\n",
       "             ('ATMOSPHERE-LAYER-11',\n",
       "              '2.581e-03,2.025e+02,9.627e-01,1.728e-02,1.316e-03,6.994e-04,3.287e-04,4.450e-09,4.442e-06,2.010e-07'),\n",
       "             ('ATMOSPHERE-LAYER-12',\n",
       "              '2.064e-03,1.961e+02,9.630e-01,1.713e-02,1.304e-03,6.929e-04,3.237e-04,4.003e-09,3.851e-06,9.910e-06'),\n",
       "             ('ATMOSPHERE-LAYER-13',\n",
       "              '1.589e-03,1.911e+02,9.633e-01,1.706e-02,1.298e-03,6.897e-04,2.396e-04,4.004e-09,3.041e-06,3.178e-05'),\n",
       "             ('ATMOSPHERE-LAYER-14',\n",
       "              '1.177e-03,1.865e+02,9.633e-01,1.709e-02,1.301e-03,6.917e-04,1.560e-04,4.079e-09,2.377e-06,3.851e-05'),\n",
       "             ('ATMOSPHERE-LAYER-15',\n",
       "              '8.408e-04,1.823e+02,9.631e-01,1.719e-02,1.309e-03,6.964e-04,9.886e-05,4.099e-09,1.793e-06,4.031e-05'),\n",
       "             ('ATMOSPHERE-LAYER-16',\n",
       "              '5.793e-04,1.781e+02,9.630e-01,1.727e-02,1.315e-03,7.000e-04,6.598e-05,4.252e-09,1.276e-06,3.858e-05'),\n",
       "             ('ATMOSPHERE-LAYER-17',\n",
       "              '3.858e-04,1.739e+02,9.630e-01,1.730e-02,1.317e-03,7.009e-04,4.486e-05,4.720e-09,8.190e-07,3.617e-05'),\n",
       "             ('ATMOSPHERE-LAYER-18',\n",
       "              '2.491e-04,1.692e+02,9.630e-01,1.727e-02,1.315e-03,6.999e-04,2.935e-05,6.937e-09,4.270e-07,3.115e-05'),\n",
       "             ('ATMOSPHERE-LAYER-19',\n",
       "              '1.567e-04,1.629e+02,9.631e-01,1.724e-02,1.313e-03,6.994e-04,1.656e-05,1.862e-08,1.699e-07,2.163e-05'),\n",
       "             ('ATMOSPHERE-LAYER-20',\n",
       "              '9.625e-05,1.547e+02,9.632e-01,1.721e-02,1.311e-03,7.007e-04,9.281e-06,4.961e-08,5.272e-08,1.067e-05'),\n",
       "             ('ATMOSPHERE-LAYER-21',\n",
       "              '5.627e-05,1.480e+02,9.633e-01,1.717e-02,1.311e-03,7.052e-04,6.942e-06,5.015e-08,1.426e-08,3.693e-06'),\n",
       "             ('ATMOSPHERE-LAYER-22',\n",
       "              '3.055e-05,1.472e+02,9.634e-01,1.708e-02,1.318e-03,7.324e-04,3.868e-06,2.589e-08,2.285e-09,1.450e-06'),\n",
       "             ('ATMOSPHERE-LAYER-23',\n",
       "              '1.590e-05,1.455e+02,9.635e-01,1.698e-02,1.333e-03,7.935e-04,3.251e-06,1.681e-08,9.338e-11,1.198e-07'),\n",
       "             ('ATMOSPHERE-LAYER-24',\n",
       "              '8.036e-06,1.431e+02,9.636e-01,1.689e-02,1.348e-03,8.686e-04,2.864e-06,1.172e-08,1.388e-11,4.347e-11'),\n",
       "             ('ATMOSPHERE-LAYER-25',\n",
       "              '3.999e-06,1.391e+02,9.637e-01,1.681e-02,1.354e-03,9.300e-04,2.493e-06,6.795e-09,9.584e-13,9.069e-34'),\n",
       "             ('ATMOSPHERE-LAYER-26',\n",
       "              '1.986e-06,1.401e+02,9.635e-01,1.676e-02,1.369e-03,1.073e-03,2.469e-06,4.144e-09,1.453e-14,1.143e-32'),\n",
       "             ('ATMOSPHERE-LAYER-27',\n",
       "              '9.862e-07,1.442e+02,9.626e-01,1.677e-02,1.412e-03,1.542e-03,2.508e-06,4.004e-09,3.527e-16,3.798e-11'),\n",
       "             ('ATMOSPHERE-LAYER-28',\n",
       "              '4.897e-07,1.459e+02,9.601e-01,1.703e-02,1.498e-03,2.631e-03,2.567e-06,2.771e-09,2.189e-17,2.262e-11'),\n",
       "             ('ATMOSPHERE-LAYER-29',\n",
       "              '2.432e-07,1.465e+02,9.562e-01,1.749e-02,1.584e-03,4.150e-03,2.637e-06,1.389e-09,4.173e-19,3.936e-11'),\n",
       "             ('ATMOSPHERE-LAYER-30',\n",
       "              '1.208e-07,1.440e+02,9.519e-01,1.820e-02,1.650e-03,5.622e-03,2.676e-06,5.752e-10,2.146e-20,1.678e-10'),\n",
       "             ('SURFACE-TEMPERATURE', 270.77),\n",
       "             ('SURFACE-ALBEDO', 0.2762),\n",
       "             ('SURFACE-EMISSIVITY', 0.7238),\n",
       "             ('SURFACE-NSURF', 0),\n",
       "             ('ATMOSPHERE-NAERO', 1),\n",
       "             ('ATMOSPHERE-AEROS', 'Dust'),\n",
       "             ('ATMOSPHERE-ATYPE', 'CRISM_Wolff[reff=1.5um 0.44-98.54um]'),\n",
       "             ('ATMOSPHERE-AABUN', 1),\n",
       "             ('ATMOSPHERE-AUNIT', 'scl'),\n",
       "             ('ATMOSPHERE-ASIZE', 1.69),\n",
       "             ('ATMOSPHERE-TAU', '1,1'),\n",
       "             ('ATMOSPHERE-NMAX', 0),\n",
       "             ('ATMOSPHERE-LMAX', 0),\n",
       "             ('SURFACE-GAS-RATIO', 1.0),\n",
       "             ('OBJECT-PERIOD', 0.0),\n",
       "             ('GEOMETRY-ROTATION', '0.00,0.00'),\n",
       "             ('RETRIEVAL-RESOLUTION', 70000),\n",
       "             ('RETRIEVAL-RESOLUTIONUNIT', 'RP'),\n",
       "             ('RETRIEVAL-FLUXSCALER', 1.0),\n",
       "             ('RETRIEVAL-FITTELLURIC', 'N'),\n",
       "             ('RETRIEVAL-FITGAIN', -1),\n",
       "             ('RETRIEVAL-REMOVEOFFSET', -1),\n",
       "             ('RETRIEVAL-REMOVEFRINGE', -1),\n",
       "             ('RETRIEVAL-FITSTELLAR', 'N'),\n",
       "             ('RETRIEVAL-FITFREQ', 'N'),\n",
       "             ('RETRIEVAL-FITRESOLUTION', 'N'),\n",
       "             ('RETRIEVAL-FREQSHIFT', 0.0),\n",
       "             ('RETRIEVAL-NVARS', 0),\n",
       "             ('RETRIEVAL-VARIABLES', ''),\n",
       "             ('RETRIEVAL-VALUES', ''),\n",
       "             ('RETRIEVAL-MIN', ''),\n",
       "             ('RETRIEVAL-MAX', ''),\n",
       "             ('RETRIEVAL-UNITS', '')])"
      ]
     },
     "execution_count": 4,
     "metadata": {},
     "output_type": "execute_result"
    }
   ],
   "source": [
    "# The default config as a dictionary\n",
    "config = psg.default_config\n",
    "config"
   ]
  },
  {
   "cell_type": "markdown",
   "metadata": {},
   "source": [
    "Modify a few fields."
   ]
  },
  {
   "cell_type": "code",
   "execution_count": 5,
   "metadata": {
    "collapsed": true
   },
   "outputs": [],
   "source": [
    "config['OBJECT-NAME'] = 'Earth'\n",
    "config['OBJECT-STAR-RADIUS'] = 1.2"
   ]
  },
  {
   "cell_type": "markdown",
   "metadata": {},
   "source": [
    "Run PSG with this config."
   ]
  },
  {
   "cell_type": "code",
   "execution_count": 6,
   "metadata": {
    "collapsed": true
   },
   "outputs": [],
   "source": [
    "result = psg.run(config)"
   ]
  },
  {
   "cell_type": "markdown",
   "metadata": {},
   "source": [
    "The returned result includes a string for the reply header, the spectrum as a Numpy array, and the duration it took to send a request to PSG and receive the reply."
   ]
  },
  {
   "cell_type": "code",
   "execution_count": 7,
   "metadata": {},
   "outputs": [
    {
     "name": "stdout",
     "output_type": "stream",
     "text": [
      "\n",
      "PSG reply header:\n",
      "# ------------------------------------------------------------------------\n",
      "# Radiance spectrum\n",
      "# NASA-GSFC Planetary Spectrum Generator (PSG) (Villanueva et al. 2015)\n",
      "# Synthesized on Wed Jul 11 16:21:10 2018\n",
      "# ------------------------------------------------------------------------\n",
      "# Atmospheric radiances synthesized with PUMAS (Villanueva et al. 2016, Smith et al. 2009, Edwards 1992)\n",
      "# Molecular abundance atmprofile: \n",
      "# Molecules considered: CO2,H2O\n",
      "# Molecular sources: HIT[2],HIT[1,4] 162\n",
      "# Molecular abundances: 1,7\n",
      "# Molecular abundance units: scl,scl\n",
      "# ------------------------------------------------------------------------\n",
      "# Spectral unit: Frequency[cm-1]\n",
      "# Radiance unit: Spectral radiance [W/sr/m2/um]\n",
      "# Wave/freq Total Noise Earth\n",
      "\n",
      "Spectrum\n",
      "[[  2.74000000e+03   4.42415000e-01   6.27969000e-04   4.42415000e-01]\n",
      " [  2.73996086e+03   4.41875000e-01   6.25298000e-04   4.41875000e-01]\n",
      " [  2.73992172e+03   4.41833000e-01   6.24800000e-04   4.41833000e-01]\n",
      " ..., \n",
      " [  2.70009402e+03   4.31150000e-01   6.12498000e-04   4.31150000e-01]\n",
      " [  2.70005545e+03   4.31116000e-01   6.12328000e-04   4.31116000e-01]\n",
      " [  2.70001688e+03   4.30997000e-01   6.12311000e-04   4.30997000e-01]]\n",
      "\n",
      "Duration (seconds):\n",
      "1.7625324726104736\n"
     ]
    }
   ],
   "source": [
    "# The reply header as a string\n",
    "print('\\nPSG reply header:\\n' + result['header'])\n",
    "\n",
    "# The generated spectrum as a Numpy array\n",
    "print('\\nSpectrum\\n' + str(result['spectrum']))\n",
    "\n",
    "# The time in seconds that was consumed\n",
    "print('\\nDuration (seconds):\\n' + str(result['duration_seconds']))"
   ]
  },
  {
   "cell_type": "markdown",
   "metadata": {},
   "source": [
    "## PSG configurations"
   ]
  },
  {
   "cell_type": "markdown",
   "metadata": {},
   "source": [
    "The example above covers the recommended usage, working with PSG configurations as Python dictionaries, and receiving the generated spectra as Numpy arrays.\n",
    "\n",
    "In addition to this, if you need, you can work with PSG configurations either as strings or as Python dictionaries."
   ]
  },
  {
   "cell_type": "code",
   "execution_count": 8,
   "metadata": {},
   "outputs": [
    {
     "data": {
      "text/plain": [
       "OrderedDict([('OBJECT', 'Mars'),\n",
       "             ('OBJECT-NAME', 'Earth'),\n",
       "             ('OBJECT-DATE', '2016/01/24 01:00'),\n",
       "             ('OBJECT-DIAMETER', 6779),\n",
       "             ('OBJECT-GRAVITY', 3.711),\n",
       "             ('OBJECT-GRAVITY-UNIT', 'g'),\n",
       "             ('OBJECT-STAR-DISTANCE', 1.6459),\n",
       "             ('OBJECT-STAR-VELOCITY', -1.0679),\n",
       "             ('OBJECT-SOLAR-LONGITUDE', 106.4),\n",
       "             ('OBJECT-SOLAR-LATITUDE', 25.08),\n",
       "             ('OBJECT-SEASON', 99.3),\n",
       "             ('OBJECT-STAR-TYPE', 'G'),\n",
       "             ('OBJECT-STAR-TEMPERATURE', 5777),\n",
       "             ('OBJECT-STAR-RADIUS', 1.2),\n",
       "             ('GEOMETRY', 'Observatory'),\n",
       "             ('GEOMETRY-OFFSET-NS', 0.3),\n",
       "             ('GEOMETRY-OFFSET-EW', 0.0),\n",
       "             ('GEOMETRY-OFFSET-UNIT', 'diameter'),\n",
       "             ('OBJECT-OBS-LONGITUDE', 144.9),\n",
       "             ('OBJECT-OBS-LATITUDE', 16.35),\n",
       "             ('OBJECT-OBS-VELOCITY', -17.626),\n",
       "             ('GEOMETRY-OBS-ALTITUDE', 1.4532),\n",
       "             ('GEOMETRY-ALTITUDE-UNIT', 'AU'),\n",
       "             ('GEOMETRY-USER-PARAM', 0.0),\n",
       "             ('GEOMETRY-STELLAR-TYPE', 'G'),\n",
       "             ('GEOMETRY-STELLAR-TEMPERATURE', 5777),\n",
       "             ('GEOMETRY-STELLAR-MAGNITUDE', 0),\n",
       "             ('GEOMETRY-SOLAR-ANGLE', 40.369),\n",
       "             ('GEOMETRY-OBS-ANGLE', 37.76),\n",
       "             ('GEOMETRY-PLANET-FRACTION', 0.006043293),\n",
       "             ('GEOMETRY-STAR-DISTANCE', -1.0),\n",
       "             ('GEOMETRY-STAR-FRACTION', 0.0),\n",
       "             ('GEOMETRY-PHASE', 39.327),\n",
       "             ('GEOMETRY-REF', 'User'),\n",
       "             ('GENERATOR-INSTRUMENT',\n",
       "              'IRTF_iSHELL: iSHELL is the 1.1-5.3 um cross-dispersed high-resolution (R 70,000) echelle spectrograph at the NASA Infrared Telescope Facility on Maunakea (4200 m), Hawaii. The instrument samples this broad spectral range (J, H, K, L, Lp and M bands) by employing an array of cross-dispersers and filters. Several slits are available (0.375, 0.75, 1.5 and 4.0 arcsec). Typical throughputs are above 0.15, yet drop substantially (below 0.05) beyond 1.25 um.'),\n",
       "             ('GENERATOR-RANGE1', 2700),\n",
       "             ('GENERATOR-RANGE2', 2740),\n",
       "             ('GENERATOR-RANGEUNIT', 'cm'),\n",
       "             ('GENERATOR-RESOLUTION', 70000),\n",
       "             ('GENERATOR-RESOLUTIONUNIT', 'RP'),\n",
       "             ('GENERATOR-TELESCOPE', 'SINGLE'),\n",
       "             ('GENERATOR-DIAMTELE', 3),\n",
       "             ('GENERATOR-BEAM', 0.5),\n",
       "             ('GENERATOR-BEAM-UNIT', 'arcsec'),\n",
       "             ('GENERATOR-TELESCOPE1', 1),\n",
       "             ('GENERATOR-TELESCOPE2', 0.0),\n",
       "             ('GENERATOR-TELESCOPE3', 1.0),\n",
       "             ('GENERATOR-NOISE', 'CCD'),\n",
       "             ('GENERATOR-NOISE1', 12),\n",
       "             ('GENERATOR-NOISE2', 0.05),\n",
       "             ('GENERATOR-NOISEOTEMP', 273),\n",
       "             ('GENERATOR-NOISEOEFF', 0.18),\n",
       "             ('GENERATOR-NOISEOEMIS', 0.05),\n",
       "             ('GENERATOR-NOISETIME', 15),\n",
       "             ('GENERATOR-NOISEFRAMES', 16),\n",
       "             ('GENERATOR-NOISEPIXELS', 8),\n",
       "             ('GENERATOR-TRANS-APPLY', 'N'),\n",
       "             ('GENERATOR-TRANS-SHOW', 'Y'),\n",
       "             ('GENERATOR-TRANS', '02-01'),\n",
       "             ('GENERATOR-LOGRAD', 'N'),\n",
       "             ('GENERATOR-GAS-MODEL', 'Y'),\n",
       "             ('GENERATOR-CONT-MODEL', 'Y'),\n",
       "             ('GENERATOR-CONT-STELLAR', 'Y'),\n",
       "             ('GENERATOR-RADUNITS', 'Wsrm2um'),\n",
       "             ('ATMOSPHERE-STRUCTURE', 'Equilibrium'),\n",
       "             ('ATMOSPHERE-WEIGHT', 43.34),\n",
       "             ('ATMOSPHERE-PUNIT', 'mbar'),\n",
       "             ('ATMOSPHERE-NGAS', 2),\n",
       "             ('ATMOSPHERE-GAS', 'CO2,H2O'),\n",
       "             ('ATMOSPHERE-TYPE', 'HIT[2],HIT[1,4] 162'),\n",
       "             ('ATMOSPHERE-ABUN', '1,7'),\n",
       "             ('ATMOSPHERE-UNIT', 'scl,scl'),\n",
       "             ('ATMOSPHERE-LAYERS-MOLECULES',\n",
       "              'CO2,N2,O2,CO,H2O,O3,Dust,WaterIce'),\n",
       "             ('ATMOSPHERE-PRESSURE', 4.971),\n",
       "             ('ATMOSPHERE-LAYERS', 30),\n",
       "             ('ATMOSPHERE-LAYER-1',\n",
       "              '4.968e-03,2.375e+02,9.624e-01,1.748e-02,1.331e-03,7.088e-04,2.611e-04,5.980e-09,4.715e-06,3.953e-32'),\n",
       "             ('ATMOSPHERE-LAYER-2',\n",
       "              '4.959e-03,2.359e+02,9.624e-01,1.748e-02,1.331e-03,7.088e-04,2.611e-04,5.999e-09,4.709e-06,1.842e-26'),\n",
       "             ('ATMOSPHERE-LAYER-3',\n",
       "              '4.934e-03,2.353e+02,9.624e-01,1.748e-02,1.331e-03,7.088e-04,2.612e-04,6.005e-09,4.702e-06,2.265e-10'),\n",
       "             ('ATMOSPHERE-LAYER-4',\n",
       "              '4.879e-03,2.344e+02,9.624e-01,1.748e-02,1.331e-03,7.088e-04,2.613e-04,6.000e-09,4.696e-06,3.926e-27'),\n",
       "             ('ATMOSPHERE-LAYER-5',\n",
       "              '4.777e-03,2.329e+02,9.624e-01,1.748e-02,1.331e-03,7.087e-04,2.617e-04,5.983e-09,4.691e-06,1.299e-27'),\n",
       "             ('ATMOSPHERE-LAYER-6',\n",
       "              '4.611e-03,2.305e+02,9.624e-01,1.747e-02,1.331e-03,7.086e-04,2.623e-04,5.944e-09,4.687e-06,1.961e-11'),\n",
       "             ('ATMOSPHERE-LAYER-7',\n",
       "              '4.363e-03,2.270e+02,9.624e-01,1.747e-02,1.331e-03,7.085e-04,2.633e-04,5.867e-09,4.685e-06,5.269e-11'),\n",
       "             ('ATMOSPHERE-LAYER-8',\n",
       "              '4.024e-03,2.223e+02,9.624e-01,1.747e-02,1.331e-03,7.083e-04,2.646e-04,5.759e-09,4.685e-06,1.222e-11'),\n",
       "             ('ATMOSPHERE-LAYER-9',\n",
       "              '3.598e-03,2.161e+02,9.624e-01,1.746e-02,1.330e-03,7.080e-04,2.667e-04,5.596e-09,4.685e-06,3.629e-10'),\n",
       "             ('ATMOSPHERE-LAYER-10',\n",
       "              '3.105e-03,2.093e+02,9.624e-01,1.745e-02,1.329e-03,7.076e-04,2.698e-04,5.345e-09,4.679e-06,2.046e-09'),\n",
       "             ('ATMOSPHERE-LAYER-11',\n",
       "              '2.581e-03,2.025e+02,9.627e-01,1.728e-02,1.316e-03,6.994e-04,3.287e-04,4.450e-09,4.442e-06,2.010e-07'),\n",
       "             ('ATMOSPHERE-LAYER-12',\n",
       "              '2.064e-03,1.961e+02,9.630e-01,1.713e-02,1.304e-03,6.929e-04,3.237e-04,4.003e-09,3.851e-06,9.910e-06'),\n",
       "             ('ATMOSPHERE-LAYER-13',\n",
       "              '1.589e-03,1.911e+02,9.633e-01,1.706e-02,1.298e-03,6.897e-04,2.396e-04,4.004e-09,3.041e-06,3.178e-05'),\n",
       "             ('ATMOSPHERE-LAYER-14',\n",
       "              '1.177e-03,1.865e+02,9.633e-01,1.709e-02,1.301e-03,6.917e-04,1.560e-04,4.079e-09,2.377e-06,3.851e-05'),\n",
       "             ('ATMOSPHERE-LAYER-15',\n",
       "              '8.408e-04,1.823e+02,9.631e-01,1.719e-02,1.309e-03,6.964e-04,9.886e-05,4.099e-09,1.793e-06,4.031e-05'),\n",
       "             ('ATMOSPHERE-LAYER-16',\n",
       "              '5.793e-04,1.781e+02,9.630e-01,1.727e-02,1.315e-03,7.000e-04,6.598e-05,4.252e-09,1.276e-06,3.858e-05'),\n",
       "             ('ATMOSPHERE-LAYER-17',\n",
       "              '3.858e-04,1.739e+02,9.630e-01,1.730e-02,1.317e-03,7.009e-04,4.486e-05,4.720e-09,8.190e-07,3.617e-05'),\n",
       "             ('ATMOSPHERE-LAYER-18',\n",
       "              '2.491e-04,1.692e+02,9.630e-01,1.727e-02,1.315e-03,6.999e-04,2.935e-05,6.937e-09,4.270e-07,3.115e-05'),\n",
       "             ('ATMOSPHERE-LAYER-19',\n",
       "              '1.567e-04,1.629e+02,9.631e-01,1.724e-02,1.313e-03,6.994e-04,1.656e-05,1.862e-08,1.699e-07,2.163e-05'),\n",
       "             ('ATMOSPHERE-LAYER-20',\n",
       "              '9.625e-05,1.547e+02,9.632e-01,1.721e-02,1.311e-03,7.007e-04,9.281e-06,4.961e-08,5.272e-08,1.067e-05'),\n",
       "             ('ATMOSPHERE-LAYER-21',\n",
       "              '5.627e-05,1.480e+02,9.633e-01,1.717e-02,1.311e-03,7.052e-04,6.942e-06,5.015e-08,1.426e-08,3.693e-06'),\n",
       "             ('ATMOSPHERE-LAYER-22',\n",
       "              '3.055e-05,1.472e+02,9.634e-01,1.708e-02,1.318e-03,7.324e-04,3.868e-06,2.589e-08,2.285e-09,1.450e-06'),\n",
       "             ('ATMOSPHERE-LAYER-23',\n",
       "              '1.590e-05,1.455e+02,9.635e-01,1.698e-02,1.333e-03,7.935e-04,3.251e-06,1.681e-08,9.338e-11,1.198e-07'),\n",
       "             ('ATMOSPHERE-LAYER-24',\n",
       "              '8.036e-06,1.431e+02,9.636e-01,1.689e-02,1.348e-03,8.686e-04,2.864e-06,1.172e-08,1.388e-11,4.347e-11'),\n",
       "             ('ATMOSPHERE-LAYER-25',\n",
       "              '3.999e-06,1.391e+02,9.637e-01,1.681e-02,1.354e-03,9.300e-04,2.493e-06,6.795e-09,9.584e-13,9.069e-34'),\n",
       "             ('ATMOSPHERE-LAYER-26',\n",
       "              '1.986e-06,1.401e+02,9.635e-01,1.676e-02,1.369e-03,1.073e-03,2.469e-06,4.144e-09,1.453e-14,1.143e-32'),\n",
       "             ('ATMOSPHERE-LAYER-27',\n",
       "              '9.862e-07,1.442e+02,9.626e-01,1.677e-02,1.412e-03,1.542e-03,2.508e-06,4.004e-09,3.527e-16,3.798e-11'),\n",
       "             ('ATMOSPHERE-LAYER-28',\n",
       "              '4.897e-07,1.459e+02,9.601e-01,1.703e-02,1.498e-03,2.631e-03,2.567e-06,2.771e-09,2.189e-17,2.262e-11'),\n",
       "             ('ATMOSPHERE-LAYER-29',\n",
       "              '2.432e-07,1.465e+02,9.562e-01,1.749e-02,1.584e-03,4.150e-03,2.637e-06,1.389e-09,4.173e-19,3.936e-11'),\n",
       "             ('ATMOSPHERE-LAYER-30',\n",
       "              '1.208e-07,1.440e+02,9.519e-01,1.820e-02,1.650e-03,5.622e-03,2.676e-06,5.752e-10,2.146e-20,1.678e-10'),\n",
       "             ('SURFACE-TEMPERATURE', 270.77),\n",
       "             ('SURFACE-ALBEDO', 0.2762),\n",
       "             ('SURFACE-EMISSIVITY', 0.7238),\n",
       "             ('SURFACE-NSURF', 0),\n",
       "             ('ATMOSPHERE-NAERO', 1),\n",
       "             ('ATMOSPHERE-AEROS', 'Dust'),\n",
       "             ('ATMOSPHERE-ATYPE', 'CRISM_Wolff[reff=1.5um 0.44-98.54um]'),\n",
       "             ('ATMOSPHERE-AABUN', 1),\n",
       "             ('ATMOSPHERE-AUNIT', 'scl'),\n",
       "             ('ATMOSPHERE-ASIZE', 1.69),\n",
       "             ('ATMOSPHERE-TAU', '1,1'),\n",
       "             ('ATMOSPHERE-NMAX', 0),\n",
       "             ('ATMOSPHERE-LMAX', 0),\n",
       "             ('SURFACE-GAS-RATIO', 1.0),\n",
       "             ('OBJECT-PERIOD', 0.0),\n",
       "             ('GEOMETRY-ROTATION', '0.00,0.00'),\n",
       "             ('RETRIEVAL-RESOLUTION', 70000),\n",
       "             ('RETRIEVAL-RESOLUTIONUNIT', 'RP'),\n",
       "             ('RETRIEVAL-FLUXSCALER', 1.0),\n",
       "             ('RETRIEVAL-FITTELLURIC', 'N'),\n",
       "             ('RETRIEVAL-FITGAIN', -1),\n",
       "             ('RETRIEVAL-REMOVEOFFSET', -1),\n",
       "             ('RETRIEVAL-REMOVEFRINGE', -1),\n",
       "             ('RETRIEVAL-FITSTELLAR', 'N'),\n",
       "             ('RETRIEVAL-FITFREQ', 'N'),\n",
       "             ('RETRIEVAL-FITRESOLUTION', 'N'),\n",
       "             ('RETRIEVAL-FREQSHIFT', 0.0),\n",
       "             ('RETRIEVAL-NVARS', 0),\n",
       "             ('RETRIEVAL-VARIABLES', ''),\n",
       "             ('RETRIEVAL-VALUES', ''),\n",
       "             ('RETRIEVAL-MIN', ''),\n",
       "             ('RETRIEVAL-MAX', ''),\n",
       "             ('RETRIEVAL-UNITS', '')])"
      ]
     },
     "execution_count": 8,
     "metadata": {},
     "output_type": "execute_result"
    }
   ],
   "source": [
    "# The default config as a dictionary\n",
    "config = psg.default_config\n",
    "config"
   ]
  },
  {
   "cell_type": "code",
   "execution_count": 9,
   "metadata": {},
   "outputs": [
    {
     "data": {
      "text/plain": [
       "'<OBJECT>Mars\\n<OBJECT-NAME>Mars\\n<OBJECT-DATE>2016/01/24 01:00\\n<OBJECT-DIAMETER>6779\\n<OBJECT-GRAVITY>3.711\\n<OBJECT-GRAVITY-UNIT>g\\n<OBJECT-STAR-DISTANCE>1.6459\\n<OBJECT-STAR-VELOCITY>-1.0679\\n<OBJECT-SOLAR-LONGITUDE>106.4\\n<OBJECT-SOLAR-LATITUDE>25.08\\n<OBJECT-SEASON>99.3\\n<OBJECT-STAR-TYPE>G\\n<OBJECT-STAR-TEMPERATURE>5777\\n<OBJECT-STAR-RADIUS>1.0\\n<GEOMETRY>Observatory\\n<GEOMETRY-OFFSET-NS>0.3\\n<GEOMETRY-OFFSET-EW>0.0\\n<GEOMETRY-OFFSET-UNIT>diameter\\n<OBJECT-OBS-LONGITUDE>144.9\\n<OBJECT-OBS-LATITUDE>16.35\\n<OBJECT-OBS-VELOCITY>-17.626\\n<GEOMETRY-OBS-ALTITUDE>1.4532\\n<GEOMETRY-ALTITUDE-UNIT>AU\\n<GEOMETRY-USER-PARAM>0.0\\n<GEOMETRY-STELLAR-TYPE>G\\n<GEOMETRY-STELLAR-TEMPERATURE>5777\\n<GEOMETRY-STELLAR-MAGNITUDE>0\\n<GEOMETRY-SOLAR-ANGLE>40.369\\n<GEOMETRY-OBS-ANGLE>37.760\\n<GEOMETRY-PLANET-FRACTION>6.043293e-03\\n<GEOMETRY-STAR-DISTANCE>-1.000000e+00\\n<GEOMETRY-STAR-FRACTION>0.000000e+00\\n<GEOMETRY-PHASE>39.327\\n<GEOMETRY-REF>User\\n<GENERATOR-INSTRUMENT>IRTF_iSHELL: iSHELL is the 1.1-5.3 um cross-dispersed high-resolution (R 70,000) echelle spectrograph at the NASA Infrared Telescope Facility on Maunakea (4200 m), Hawaii. The instrument samples this broad spectral range (J, H, K, L, Lp and M bands) by employing an array of cross-dispersers and filters. Several slits are available (0.375, 0.75, 1.5 and 4.0 arcsec). Typical throughputs are above 0.15, yet drop substantially (below 0.05) beyond 1.25 um.\\n<GENERATOR-RANGE1>2700\\n<GENERATOR-RANGE2>2740\\n<GENERATOR-RANGEUNIT>cm\\n<GENERATOR-RESOLUTION>70000\\n<GENERATOR-RESOLUTIONUNIT>RP\\n<GENERATOR-TELESCOPE>SINGLE\\n<GENERATOR-DIAMTELE>3\\n<GENERATOR-BEAM>0.5\\n<GENERATOR-BEAM-UNIT>arcsec\\n<GENERATOR-TELESCOPE1>1\\n<GENERATOR-TELESCOPE2>0.0\\n<GENERATOR-TELESCOPE3>1.0\\n<GENERATOR-NOISE>CCD\\n<GENERATOR-NOISE1>12\\n<GENERATOR-NOISE2>0.05\\n<GENERATOR-NOISEOTEMP>273\\n<GENERATOR-NOISEOEFF>0.18\\n<GENERATOR-NOISEOEMIS>0.05\\n<GENERATOR-NOISETIME>15\\n<GENERATOR-NOISEFRAMES>16\\n<GENERATOR-NOISEPIXELS>8\\n<GENERATOR-TRANS-APPLY>N\\n<GENERATOR-TRANS-SHOW>Y\\n<GENERATOR-TRANS>02-01\\n<GENERATOR-LOGRAD>N\\n<GENERATOR-GAS-MODEL>Y\\n<GENERATOR-CONT-MODEL>Y\\n<GENERATOR-CONT-STELLAR>Y\\n<GENERATOR-RADUNITS>Wsrm2um\\n<ATMOSPHERE-STRUCTURE>Equilibrium\\n<ATMOSPHERE-WEIGHT>43.34\\n<ATMOSPHERE-PUNIT>mbar\\n<ATMOSPHERE-NGAS>2\\n<ATMOSPHERE-GAS>CO2,H2O\\n<ATMOSPHERE-TYPE>HIT[2],HIT[1,4] 162\\n<ATMOSPHERE-ABUN>1,7\\n<ATMOSPHERE-UNIT>scl,scl\\n<ATMOSPHERE-LAYERS-MOLECULES>CO2,N2,O2,CO,H2O,O3,Dust,WaterIce\\n<ATMOSPHERE-PRESSURE>4.971\\n<ATMOSPHERE-LAYERS>30\\n<ATMOSPHERE-LAYER-1>4.968e-03,2.375e+02,9.624e-01,1.748e-02,1.331e-03,7.088e-04,2.611e-04,5.980e-09,4.715e-06,3.953e-32\\n<ATMOSPHERE-LAYER-2>4.959e-03,2.359e+02,9.624e-01,1.748e-02,1.331e-03,7.088e-04,2.611e-04,5.999e-09,4.709e-06,1.842e-26\\n<ATMOSPHERE-LAYER-3>4.934e-03,2.353e+02,9.624e-01,1.748e-02,1.331e-03,7.088e-04,2.612e-04,6.005e-09,4.702e-06,2.265e-10\\n<ATMOSPHERE-LAYER-4>4.879e-03,2.344e+02,9.624e-01,1.748e-02,1.331e-03,7.088e-04,2.613e-04,6.000e-09,4.696e-06,3.926e-27\\n<ATMOSPHERE-LAYER-5>4.777e-03,2.329e+02,9.624e-01,1.748e-02,1.331e-03,7.087e-04,2.617e-04,5.983e-09,4.691e-06,1.299e-27\\n<ATMOSPHERE-LAYER-6>4.611e-03,2.305e+02,9.624e-01,1.747e-02,1.331e-03,7.086e-04,2.623e-04,5.944e-09,4.687e-06,1.961e-11\\n<ATMOSPHERE-LAYER-7>4.363e-03,2.270e+02,9.624e-01,1.747e-02,1.331e-03,7.085e-04,2.633e-04,5.867e-09,4.685e-06,5.269e-11\\n<ATMOSPHERE-LAYER-8>4.024e-03,2.223e+02,9.624e-01,1.747e-02,1.331e-03,7.083e-04,2.646e-04,5.759e-09,4.685e-06,1.222e-11\\n<ATMOSPHERE-LAYER-9>3.598e-03,2.161e+02,9.624e-01,1.746e-02,1.330e-03,7.080e-04,2.667e-04,5.596e-09,4.685e-06,3.629e-10\\n<ATMOSPHERE-LAYER-10>3.105e-03,2.093e+02,9.624e-01,1.745e-02,1.329e-03,7.076e-04,2.698e-04,5.345e-09,4.679e-06,2.046e-09\\n<ATMOSPHERE-LAYER-11>2.581e-03,2.025e+02,9.627e-01,1.728e-02,1.316e-03,6.994e-04,3.287e-04,4.450e-09,4.442e-06,2.010e-07\\n<ATMOSPHERE-LAYER-12>2.064e-03,1.961e+02,9.630e-01,1.713e-02,1.304e-03,6.929e-04,3.237e-04,4.003e-09,3.851e-06,9.910e-06\\n<ATMOSPHERE-LAYER-13>1.589e-03,1.911e+02,9.633e-01,1.706e-02,1.298e-03,6.897e-04,2.396e-04,4.004e-09,3.041e-06,3.178e-05\\n<ATMOSPHERE-LAYER-14>1.177e-03,1.865e+02,9.633e-01,1.709e-02,1.301e-03,6.917e-04,1.560e-04,4.079e-09,2.377e-06,3.851e-05\\n<ATMOSPHERE-LAYER-15>8.408e-04,1.823e+02,9.631e-01,1.719e-02,1.309e-03,6.964e-04,9.886e-05,4.099e-09,1.793e-06,4.031e-05\\n<ATMOSPHERE-LAYER-16>5.793e-04,1.781e+02,9.630e-01,1.727e-02,1.315e-03,7.000e-04,6.598e-05,4.252e-09,1.276e-06,3.858e-05\\n<ATMOSPHERE-LAYER-17>3.858e-04,1.739e+02,9.630e-01,1.730e-02,1.317e-03,7.009e-04,4.486e-05,4.720e-09,8.190e-07,3.617e-05\\n<ATMOSPHERE-LAYER-18>2.491e-04,1.692e+02,9.630e-01,1.727e-02,1.315e-03,6.999e-04,2.935e-05,6.937e-09,4.270e-07,3.115e-05\\n<ATMOSPHERE-LAYER-19>1.567e-04,1.629e+02,9.631e-01,1.724e-02,1.313e-03,6.994e-04,1.656e-05,1.862e-08,1.699e-07,2.163e-05\\n<ATMOSPHERE-LAYER-20>9.625e-05,1.547e+02,9.632e-01,1.721e-02,1.311e-03,7.007e-04,9.281e-06,4.961e-08,5.272e-08,1.067e-05\\n<ATMOSPHERE-LAYER-21>5.627e-05,1.480e+02,9.633e-01,1.717e-02,1.311e-03,7.052e-04,6.942e-06,5.015e-08,1.426e-08,3.693e-06\\n<ATMOSPHERE-LAYER-22>3.055e-05,1.472e+02,9.634e-01,1.708e-02,1.318e-03,7.324e-04,3.868e-06,2.589e-08,2.285e-09,1.450e-06\\n<ATMOSPHERE-LAYER-23>1.590e-05,1.455e+02,9.635e-01,1.698e-02,1.333e-03,7.935e-04,3.251e-06,1.681e-08,9.338e-11,1.198e-07\\n<ATMOSPHERE-LAYER-24>8.036e-06,1.431e+02,9.636e-01,1.689e-02,1.348e-03,8.686e-04,2.864e-06,1.172e-08,1.388e-11,4.347e-11\\n<ATMOSPHERE-LAYER-25>3.999e-06,1.391e+02,9.637e-01,1.681e-02,1.354e-03,9.300e-04,2.493e-06,6.795e-09,9.584e-13,9.069e-34\\n<ATMOSPHERE-LAYER-26>1.986e-06,1.401e+02,9.635e-01,1.676e-02,1.369e-03,1.073e-03,2.469e-06,4.144e-09,1.453e-14,1.143e-32\\n<ATMOSPHERE-LAYER-27>9.862e-07,1.442e+02,9.626e-01,1.677e-02,1.412e-03,1.542e-03,2.508e-06,4.004e-09,3.527e-16,3.798e-11\\n<ATMOSPHERE-LAYER-28>4.897e-07,1.459e+02,9.601e-01,1.703e-02,1.498e-03,2.631e-03,2.567e-06,2.771e-09,2.189e-17,2.262e-11\\n<ATMOSPHERE-LAYER-29>2.432e-07,1.465e+02,9.562e-01,1.749e-02,1.584e-03,4.150e-03,2.637e-06,1.389e-09,4.173e-19,3.936e-11\\n<ATMOSPHERE-LAYER-30>1.208e-07,1.440e+02,9.519e-01,1.820e-02,1.650e-03,5.622e-03,2.676e-06,5.752e-10,2.146e-20,1.678e-10\\n<SURFACE-TEMPERATURE>270.77\\n<SURFACE-ALBEDO>0.2762\\n<SURFACE-EMISSIVITY>0.7238\\n<SURFACE-NSURF>0\\n<ATMOSPHERE-NAERO>1\\n<ATMOSPHERE-AEROS>Dust\\n<ATMOSPHERE-ATYPE>CRISM_Wolff[reff=1.5um 0.44-98.54um]\\n<ATMOSPHERE-AABUN>1\\n<ATMOSPHERE-AUNIT>scl\\n<ATMOSPHERE-ASIZE>1.69\\n<ATMOSPHERE-TAU>1,1\\n<ATMOSPHERE-NMAX>0\\n<ATMOSPHERE-LMAX>0\\n<SURFACE-GAS-RATIO>1.0\\n<OBJECT-PERIOD>0.0\\n<GEOMETRY-ROTATION>0.00,0.00\\n<RETRIEVAL-RESOLUTION>70000\\n<RETRIEVAL-RESOLUTIONUNIT>RP\\n<RETRIEVAL-FLUXSCALER>1.0\\n<RETRIEVAL-FITTELLURIC>N\\n<RETRIEVAL-FITGAIN>-1\\n<RETRIEVAL-REMOVEOFFSET>-1\\n<RETRIEVAL-REMOVEFRINGE>-1\\n<RETRIEVAL-FITSTELLAR>N\\n<RETRIEVAL-FITFREQ>N\\n<RETRIEVAL-FITRESOLUTION>N\\n<RETRIEVAL-FREQSHIFT>0.0\\n<RETRIEVAL-NVARS>0\\n<RETRIEVAL-VARIABLES>\\n<RETRIEVAL-VALUES>\\n<RETRIEVAL-MIN>\\n<RETRIEVAL-MAX>\\n<RETRIEVAL-UNITS>\\n'"
      ]
     },
     "execution_count": 9,
     "metadata": {},
     "output_type": "execute_result"
    }
   ],
   "source": [
    "# The default config as a string\n",
    "config_str = psg.default_config_str\n",
    "config_str"
   ]
  },
  {
   "cell_type": "markdown",
   "metadata": {},
   "source": [
    "There are helper methods for converting between PSG config dictionaries and strings, if you need these."
   ]
  },
  {
   "cell_type": "code",
   "execution_count": 10,
   "metadata": {
    "collapsed": true
   },
   "outputs": [],
   "source": [
    "# Convert a config dictionary to config string\n",
    "config_str = psg.config_dict_to_str(config)\n",
    "\n",
    "# Convert a config string to config dictionary\n",
    "config = psg.config_str_to_dict(config_str)"
   ]
  },
  {
   "cell_type": "markdown",
   "metadata": {},
   "source": [
    "Running PSG with either a config dictionary or a config string."
   ]
  },
  {
   "cell_type": "code",
   "execution_count": 11,
   "metadata": {
    "collapsed": true
   },
   "outputs": [],
   "source": [
    "# Run PSG with a config dictionary\n",
    "result = psg.run(config)\n",
    "\n",
    "# Run PSG with a config string\n",
    "result = psg.run(config_str=config_str)"
   ]
  },
  {
   "cell_type": "code",
   "execution_count": null,
   "metadata": {
    "collapsed": true
   },
   "outputs": [],
   "source": []
  },
  {
   "cell_type": "code",
   "execution_count": null,
   "metadata": {
    "collapsed": true
   },
   "outputs": [],
   "source": []
  }
 ],
 "metadata": {
  "kernelspec": {
   "display_name": "Python 3",
   "language": "python",
   "name": "python3"
  },
  "language_info": {
   "codemirror_mode": {
    "name": "ipython",
    "version": 3
   },
   "file_extension": ".py",
   "mimetype": "text/x-python",
   "name": "python",
   "nbconvert_exporter": "python",
   "pygments_lexer": "ipython3",
   "version": "3.6.5"
  }
 },
 "nbformat": 4,
 "nbformat_minor": 2
}
